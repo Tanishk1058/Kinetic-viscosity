{
  "cells": [
    {
      "cell_type": "markdown",
      "id": "ba0b4697",
      "metadata": {
        "id": "ba0b4697"
      },
      "source": [
        " read and plot simulation data"
      ]
    },
    {
      "cell_type": "code",
      "execution_count": 1,
      "id": "ed300343",
      "metadata": {
        "id": "ed300343"
      },
      "outputs": [],
      "source": [
        "import numpy as np\n",
        "import matplotlib.pyplot as plt"
      ]
    },
    {
      "cell_type": "markdown",
      "id": "e05979b6",
      "metadata": {
        "id": "e05979b6"
      },
      "source": [
        "## Read data from npy files"
      ]
    },
    {
      "cell_type": "markdown",
      "id": "f1f97bd6",
      "metadata": {
        "id": "f1f97bd6"
      },
      "source": [
        "In this dataset the particle data for each simulation are stored as numpy arrays in npy files."
      ]
    },
    {
      "cell_type": "markdown",
      "id": "eaf1a75b",
      "metadata": {
        "id": "eaf1a75b"
      },
      "source": [
        "Each array contains information on the x, y and z position and velocities for each particle for all time steps of the simulation. This information is stored in and array with the following structure: [time_step, particle_info, particle_id]."
      ]
    },
    {
      "cell_type": "code",
      "execution_count": 13,
      "id": "c616b8b9",
      "metadata": {
        "id": "c616b8b9"
      },
      "outputs": [],
      "source": [
        "npy_file_path = \"C:/Users/malho/OneDrive/Desktop/mamoriya/dataset_simulations/sim_0002/particle_data.npy\"\n"
      ]
    },
    {
      "cell_type": "code",
      "execution_count": 14,
      "id": "ee906e29",
      "metadata": {
        "id": "ee906e29",
        "outputId": "73dc135c-d230-44c2-b7f3-780b69d918df"
      },
      "outputs": [
        {
          "name": "stdout",
          "output_type": "stream",
          "text": [
            "(667, 6, 945)\n"
          ]
        }
      ],
      "source": [
        "simulation_data = np.load(npy_file_path)\n",
        "print(simulation_data.shape)"
      ]
    },
    {
      "cell_type": "code",
      "execution_count": 16,
      "id": "aa5d1f69",
      "metadata": {
        "id": "aa5d1f69"
      },
      "outputs": [],
      "source": [
        "simulation_data_time_0 = simulation_data[0, :, :]\n",
        "\n",
        "x_coordinates = simulation_data_time_0[3, :]\n",
        "y_coordinates = simulation_data_time_0[4, :]\n",
        "z_coordinates = simulation_data_time_0[5, :]\n",
        "x_velocity = simulation_data_time_0[0, :]\n",
        "y_velocity = simulation_data_time_0[1, :]\n",
        "z_velocity = simulation_data_time_0[2, :]"
      ]
    },
    {
      "cell_type": "markdown",
      "id": "526f573f",
      "metadata": {
        "id": "526f573f"
      },
      "source": [
        "### Plot the partice positions"
      ]
    },
    {
      "cell_type": "markdown",
      "id": "ab5c0277",
      "metadata": {
        "id": "ab5c0277"
      },
      "source": [
        "Now that we can extract the positions of each particle, let's plot this."
      ]
    },
    {
      "cell_type": "code",
      "execution_count": 17,
      "id": "fce5658e",
      "metadata": {
        "id": "fce5658e",
        "outputId": "db755ee1-ec5d-48f7-8da6-b18faae5f814"
      },
      "outputs": [
        {
          "data": {
            "image/png": "[encoded data removed]",
            "text/plain": [
              "<Figure size 500x500 with 1 Axes>"
            ]
          },
          "metadata": {},
          "output_type": "display_data"
        }
      ],
      "source": [
        "# Initialize 3D figure\n",
        "fig = plt.figure(figsize=[5,5])\n",
        "ax = fig.add_subplot(projection=\"3d\")\n",
        "\n",
        "# Plot particles\n",
        "ax.scatter(x_coordinates, y_coordinates, z_coordinates, alpha=1, zorder=1)\n",
        "\n",
        "# Customize plot\n",
        "ax.set(xlim=(0, 1), ylim=(0, 1), zlim=(0, 1),\n",
        "       xticks=(), yticks=(), zticks=())\n",
        "\n",
        "# Set tank dimensions in the figure\n",
        "ax.set_box_aspect(aspect=[1,1,1])\n",
        "\n",
        "# Set color of the tank floor: color=RGBA\n",
        "ax.zaxis.set_pane_color(color=(0.7, 0.6, 0.4, 1.0))\n",
        "\n",
        "fig.tight_layout()\n",
        "\n",
        "plt.show()\n"
      ]
    }
  ],
  "metadata": {
    "colab": {
      "provenance": []
    },
    "kernelspec": {
      "display_name": "Python 3 (ipykernel)",
      "language": "python",
      "name": "python3"
    },
    "language_info": {
      "codemirror_mode": {
        "name": "ipython",
        "version": 3
      },
      "file_extension": ".py",
      "mimetype": "text/x-python",
      "name": "python",
      "nbconvert_exporter": "python",
      "pygments_lexer": "ipython3",
      "version": "3.11.7"
    }
  },
  "nbformat": 4,
  "nbformat_minor": 5
}
